{
 "cells": [
  {
   "cell_type": "code",
   "execution_count": 1,
   "metadata": {},
   "outputs": [
    {
     "name": "stdout",
     "output_type": "stream",
     "text": [
      "Collecting pypdf2\n",
      "  Downloading PyPDF2-1.26.0.tar.gz (77 kB)\n",
      "Building wheels for collected packages: pypdf2\n",
      "  Building wheel for pypdf2 (setup.py): started\n",
      "  Building wheel for pypdf2 (setup.py): finished with status 'done'\n",
      "  Created wheel for pypdf2: filename=PyPDF2-1.26.0-py3-none-any.whl size=61087 sha256=41d4d3351b7789538552f85ef4e28f16002b9b2a757033cecc468d708c45e164\n",
      "  Stored in directory: c:\\users\\alena edora\\appdata\\local\\pip\\cache\\wheels\\80\\1a\\24\\648467ade3a77ed20f35cfd2badd32134e96dd25ca811e64b3\n",
      "Successfully built pypdf2\n",
      "Installing collected packages: pypdf2\n",
      "Successfully installed pypdf2-1.26.0\n"
     ]
    }
   ],
   "source": [
    "! pip install pypdf2"
   ]
  },
  {
   "cell_type": "code",
   "execution_count": 2,
   "metadata": {},
   "outputs": [],
   "source": [
    "import PyPDF2 as pyd"
   ]
  },
  {
   "cell_type": "code",
   "execution_count": 4,
   "metadata": {},
   "outputs": [],
   "source": [
    "# opens the watermark and the pdf file you gon water mark \n",
    "file = open('iso.pdf','rb')  #change 'iso.pdf' to your filename\n",
    "watermark = open('watermark.pdf','rb')  #change 'watermark.pdf' to your filename\n",
    "\n",
    "# reads the file and watermark \n",
    "reader = pyd.PdfFileReader(file)\n",
    "reader2 = pyd.PdfFileReader(watermark)\n",
    "\n",
    "# gets the first page of watermark \n",
    "waterpage = reader2.getPage(0)\n",
    "writer = pyd.PdfFileWriter()\n",
    "\n",
    "# loops through all the pages of your very important file\n",
    "for pageNum in range(0, reader.numPages):\n",
    "    pageObj = reader.getPage(pageNum)\n",
    "    pageObj.mergePage(waterpage)\n",
    "    writer.addPage(pageObj)\n",
    "\n",
    "# saves the pages to output file    \n",
    "output = open('iso_watermarked.pdf','wb')\n",
    "writer.write(output)\n",
    "file.close()\n",
    "output.close()"
   ]
  },
  {
   "cell_type": "code",
   "execution_count": null,
   "metadata": {},
   "outputs": [],
   "source": []
  }
 ],
 "metadata": {
  "kernelspec": {
   "display_name": "Python 3",
   "language": "python",
   "name": "python3"
  },
  "language_info": {
   "codemirror_mode": {
    "name": "ipython",
    "version": 3
   },
   "file_extension": ".py",
   "mimetype": "text/x-python",
   "name": "python",
   "nbconvert_exporter": "python",
   "pygments_lexer": "ipython3",
   "version": "3.7.6"
  }
 },
 "nbformat": 4,
 "nbformat_minor": 4
}
